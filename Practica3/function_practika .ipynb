{
 "cells": [
  {
   "cell_type": "markdown",
   "metadata": {},
   "source": [
    "Вы работаете секретарем и вам постоянно приходят различные документы. Вы должны быть очень внимательны, чтобы не потерять ни один документ. Каталог документов хранится в следующем виде:"
   ]
  },
  {
   "cell_type": "code",
   "execution_count": 30,
   "metadata": {},
   "outputs": [],
   "source": [
    "documents = [\n",
    "    {'type': 'passport', 'number': '2207 876234', 'name': 'Василий Гупкин'},\n",
    "    {'type': 'invoice', 'number': '11-2', 'name': 'Геннадий Покемонов'},\n",
    "    {'type': 'insurance', 'number': '10006', 'name': 'Аристарх Павлов'}\n",
    "]"
   ]
  },
  {
   "cell_type": "code",
   "execution_count": 2,
   "metadata": {},
   "outputs": [],
   "source": [
    "def print_documents(documents):\n",
    "    for doc in documents:\n",
    "        print(doc)"
   ]
  },
  {
   "cell_type": "markdown",
   "metadata": {},
   "source": [
    "Перечень полок, на которых находятся документы хранится в следующем виде:"
   ]
  },
  {
   "cell_type": "code",
   "execution_count": 42,
   "metadata": {},
   "outputs": [],
   "source": [
    "directories = {\n",
    "    '1': ['2207 876234', '11-2'],\n",
    "    '2': ['10006'],\n",
    "    '3': []\n",
    "}"
   ]
  },
  {
   "cell_type": "code",
   "execution_count": 4,
   "metadata": {},
   "outputs": [],
   "source": [
    "def print_directories(directories):\n",
    "    for key,value in directories.items():\n",
    "        print(key,value)"
   ]
  },
  {
   "cell_type": "markdown",
   "metadata": {},
   "source": [
    "Необходимо реализовать пользовательские команды (внимание! это не название функций, которые должны быть выразительными, а команды, которые вводит пользователь, чтобы получить необходимый результат):\n",
    "\n",
    "* p – people – команда, которая спросит номер документа и выведет имя человека, которому он принадлежит;\n",
    "* s – shelf – команда, которая спросит номер документа и выведет номер полки, на которой он находится\n",
    "Правильно обработайте ситуации, когда пользователь будет вводить несуществующий документ.\n",
    "* l – list – команда, которая выведет список всех документов в формате\n",
    "**passport \"2207 876234\" \"Василий Гупкин\"**\n",
    "* as – add shelf – команда, которая спросит номер новой полки и добавит ее в перечень. Предусмотрите случай, когда пользователь добавляет полку, которая уже существует.\n",
    "* d – delete – команда, которая спросит номер документа и удалит его из каталога и из перечня полок. Предусмотрите сценарий, когда пользователь вводит несуществующий документ;\n",
    "* m – move – команда, которая спросит номер документа и целевую полку и переместит его с текущей полки на целевую. Корректно обработайте кейсы, когда пользователь пытается переместить несуществующий документ или переместить документ на несуществующую полку;\n",
    "*  add – команда, которая добавит новый документ в каталог и в перечень полок, спросив его номер, тип, имя владельца и номер полки, на котором он будет храниться. Корректно обработайте ситуацию, когда пользователь будет пытаться добавить документ на несуществующую полку."
   ]
  },
  {
   "cell_type": "code",
   "execution_count": null,
   "metadata": {},
   "outputs": [
    {
     "name": "stdout",
     "output_type": "stream",
     "text": [
      "Введите командуdoc\n",
      "{'type': 'passport', 'number': '2207 876234', 'name': 'Василий Гупкин'}\n",
      "{'type': 'invoice', 'number': '11-2', 'name': 'Геннадий Покемонов'}\n",
      "{'type': 'insurance', 'number': '10006', 'name': 'Аристарх Павлов'}\n",
      "Введите командуadd\n",
      "тип:passport\n",
      "номер документа:1000\n",
      "имя:Vladik\n",
      "полка:3\n",
      "Введите командуdoc\n",
      "{'type': 'passport', 'number': '2207 876234', 'name': 'Василий Гупкин'}\n",
      "{'type': 'invoice', 'number': '11-2', 'name': 'Геннадий Покемонов'}\n",
      "{'type': 'insurance', 'number': '10006', 'name': 'Аристарх Павлов'}\n",
      "{'type': 'passport', 'number': '1000', 'name': 'Vladik'}\n",
      "Введите командуd\n",
      "введите номер документа:1000\n",
      "Введите командуdoc\n",
      "{'type': 'passport', 'number': '2207 876234', 'name': 'Василий Гупкин'}\n",
      "{'type': 'invoice', 'number': '11-2', 'name': 'Геннадий Покемонов'}\n",
      "{'type': 'insurance', 'number': '10006', 'name': 'Аристарх Павлов'}\n",
      "Введите командуdic\n",
      "Введите командуdir\n",
      "1 ['2207 876234', '11-2']\n",
      "2 ['10006']\n",
      "3 []\n",
      "Введите командуs\n",
      "Введите номер документа:11-2\n",
      "['1']\n",
      "Введите командуas\n",
      "введите номер новой полки:2\n",
      "есть такая полка\n"
     ]
    }
   ],
   "source": [
    "documents = [\n",
    "    {'type': 'passport', 'number': '2207 876234', 'name': 'Василий Гупкин'},\n",
    "    {'type': 'invoice', 'number': '11-2', 'name': 'Геннадий Покемонов'},\n",
    "    {'type': 'insurance', 'number': '10006', 'name': 'Аристарх Павлов'}\n",
    "]\n",
    "def print_documents(documents):\n",
    "    for doc in documents:\n",
    "        print(doc)\n",
    "directories = {\n",
    "    '1': ['2207 876234', '11-2'],\n",
    "    '2': ['10006'],\n",
    "    '3': []\n",
    "}\n",
    "def print_directories(directories):\n",
    "    for key,value in directories.items():\n",
    "        print(key,value)\n",
    "def people(documents) :\n",
    "    number=input(\"Введите номер документа:\")\n",
    "    c=[documents[i]['name'] for i in range(len(directories)) if number==documents[i]['number']]\n",
    "    print(c)\n",
    "def shelf(directories) :\n",
    "    number=input(\"Введите номер документа:\")\n",
    "    c=[i for i in directories.keys() for j in range(len(directories[i])) if number==directories[i][j]] \n",
    "    if c==[] :print(\"нет такого \")\n",
    "    else :print(c)\n",
    "def list(documents):\n",
    "    for i in range(len(documents)) :print(documents[i]['type'],\"\\\"\",documents[i]['number'],\"\\\"\", \"\\\"\",documents[i]['name'],\"\\\"\")\n",
    "def addshelf(directories):\n",
    "    c=input(\"введите номер новой полки:\")\n",
    "    if c not in directories :directories[c]=[]\n",
    "    else :print(\"есть такая полка\")\n",
    "def delete(documents,directories) :\n",
    "    number=input(\"введите номер документа:\")\n",
    "    for i in documents :\n",
    "        if i['number']==number: documents.remove(i)\n",
    "    for values in directories.values():\n",
    "        if number in values : \n",
    "            values.remove(number)\n",
    "            return\n",
    "    print(\"нет такого\")\n",
    "def move(directories) :\n",
    "    number=input(\"введите номер документа:\")\n",
    "    polka=input(\"введите полку:\")\n",
    "    for values in directories.values():\n",
    "        if number in values and polka in directories.keys() :\n",
    "            c=values.pop()\n",
    "            directories[polka].append(number)   \n",
    "        else :\n",
    "            print(\"нет такого документа или полки\")\n",
    "            return\n",
    "def add(documents,directories) :\n",
    "    tip=input(\"тип:\")\n",
    "    number=input(\"номер документа:\")\n",
    "    name=input(\"имя:\")\n",
    "    polka=input(\"полка:\")\n",
    "    if polka in directories.keys() :\n",
    "        documents.append({'type': tip, 'number': number, 'name': name})\n",
    "        directories[polka].append(number)\n",
    "    else :print(\"нет такой полки\")\n",
    "def main():\n",
    "    while True:\n",
    "        user_input = input('Введите команду')\n",
    "        if user_input == 'p': people(documents)\n",
    "        elif user_input == 's':shelf(directories)\n",
    "        elif user_input == 'l':list(documents)\n",
    "        elif user_input == 'as':addshelf(directories)\n",
    "        elif user_input == 'd':delete(documents,directories)\n",
    "        elif user_input == 'm':move(directories)\n",
    "        elif user_input == 'add':add(documents,directories)\n",
    "        elif user_input == 'doc':print_documents(documents)\n",
    "        elif user_input == 'dir':print_directories(directories)\n",
    "        elif user_input == 'q':break\n",
    "\n",
    "main()"
   ]
  },
  {
   "cell_type": "code",
   "execution_count": null,
   "metadata": {},
   "outputs": [],
   "source": []
  }
 ],
 "metadata": {
  "kernelspec": {
   "display_name": "Python 3",
   "language": "python",
   "name": "python3"
  },
  "language_info": {
   "codemirror_mode": {
    "name": "ipython",
    "version": 3
   },
   "file_extension": ".py",
   "mimetype": "text/x-python",
   "name": "python",
   "nbconvert_exporter": "python",
   "pygments_lexer": "ipython3",
   "version": "3.8.3"
  }
 },
 "nbformat": 4,
 "nbformat_minor": 4
}
